{
 "cells": [
  {
   "cell_type": "markdown",
   "metadata": {},
   "source": [
    "# Disco eléctricamente cargado de manera uniforme"
   ]
  },
  {
   "cell_type": "markdown",
   "metadata": {},
   "source": [
    "Este código es una fusión/modificación de los códigos disponibles en:\n",
    "* https://www.glowscript.org/#/user/GlowScriptDemos/folder/Examples/program/DipoleElectricField\n",
    "* https://www.glowscript.org/#/user/wlane/folder/PHYS152/program/Charged-Sheet\n",
    "\n",
    "A considerar:\n",
    "* Para rotar la vista de la cámara: presione el botón derecho del mouse y arrastrelo por la pantalla (o presione Ctrl-Botón izquierdo del mouse y arrastrelo por la pantalla).\n",
    "* Para hacer Zoom: presione ambos botones del mouse y arrastrelo por  la pantalla (o mueva la rueda del mouse).\n",
    "* Pantalla táctil: deslice o gire con dos dedos; pellizcar/extender para hacer zoom."
   ]
  },
  {
   "cell_type": "code",
   "execution_count": 1,
   "metadata": {
    "collapsed": false,
    "scrolled": true
   },
   "outputs": [
    {
     "data": {
      "text/html": [
       "<div id=\"glowscript\" class=\"glowscript\"></div>"
      ],
      "text/plain": [
       "<IPython.core.display.HTML object>"
      ]
     },
     "metadata": {},
     "output_type": "display_data"
    },
    {
     "data": {
      "application/javascript": [
       "if (typeof Jupyter !== \"undefined\") { window.__context = { glowscript_container: $(\"#glowscript\").removeAttr(\"id\")};}else{ element.textContent = ' ';}"
      ],
      "text/plain": [
       "<IPython.core.display.Javascript object>"
      ]
     },
     "metadata": {},
     "output_type": "display_data"
    }
   ],
   "source": [
    "import vpython as vp"
   ]
  },
  {
   "cell_type": "code",
   "execution_count": 2,
   "metadata": {
    "collapsed": false
   },
   "outputs": [],
   "source": [
    "#Code\n",
    "def charge_color(charge):\n",
    "    if charge>0:\n",
    "        charge_color = vp.color.red\n",
    "    elif charge <0:\n",
    "        charge_color = vp.color.blue\n",
    "    else:\n",
    "        charge_color = vp.color.white\n",
    "    return charge_color\n",
    "#\n",
    "def getfield(position):\n",
    "    r = position\n",
    "    field = vp.vec(0,0,0)\n",
    "    for charge in charges:\n",
    "        qp = charge.q\n",
    "        rp = charge.pos\n",
    "        field = field + (r-rp)*kel*qp/vp.mag(r-rp)**3 # Electric Field\n",
    "    return field\n",
    "\n",
    "def plot_field(position):\n",
    "    global field, magnitude\n",
    "    vector_field = vp.arrow(shaftwidth=6e-15)\n",
    "    field = getfield(position)\n",
    "    magnitude = vp.mag(field)\n",
    "    red = max(1-1e17/magnitude, 0)\n",
    "    blue = min(1e17/magnitude, 1)\n",
    "    if red >= blue:\n",
    "        blue = blue/red\n",
    "        red = 1.0\n",
    "    else:\n",
    "        red = red/blue\n",
    "        blue = 1.0\n",
    "    vector_field.pos = position\n",
    "    vector_field.axis = scale*field\n",
    "    vector_field.color = vp.vector(red,0,blue)\n",
    "\n",
    "def mouse_to_field(vector_field):\n",
    "    position = vp.scene.mouse.pos\n",
    "    plot_field(position)\n",
    "#\n",
    "    p = (70*\"=\"+\"\\n\")\n",
    "    p += \"Haga clic o arrastre para trazar un vector de campo eléctrico producido.\\n\"\n",
    "    p += \"En una pantalla táctil, toque o mantenga presionado y luego arrastre.\\n\"\n",
    "    p += \"Las flechas que representan el campo son más azules si son de baja magnitud, más rojas si son altas.\\n\"#    p += 70*\"=\"+\"\\n\"\n",
    "    p += (\"rx = %2.20f m \\n\" %position.x)\n",
    "    p += (\"ry = %2.20f m\\n\" %position.y)\n",
    "    p += (\"rz = %2.20f m\\n\" %position.z)\n",
    "    p += (\"r = %2.20f m \\n\" %vp.mag(position))\n",
    "    p += (70*\"=\"+\"\\n\")\n",
    "    p += (\"Ex = %2.2f N/C\\n\" %field.x)\n",
    "    p += (\"Ey = %2.2f N/C\\n\" %field.y)\n",
    "    p += (\"Ez = %2.2f N/C\\n\" %field.z)\n",
    "    p += (\"E = %2.2f N/C \\n\" %magnitude)\n",
    "    p += (70*\"=\"+\"\\n\")\n",
    "    vp.scene.caption = p\n",
    "    \n",
    "#For interactivity!\n",
    "drag = False\n",
    "vector_field = None\n",
    "def down(ev):\n",
    "    global vector_field, drag\n",
    "    vector_field = vp.arrow(shaftwidth=6e-15)\n",
    "    field = mouse_to_field(vector_field)\n",
    "    drag = True\n",
    "    \n",
    "def move(ev):\n",
    "    global vector_field, drag\n",
    "    if not drag: return\n",
    "    mouse_to_field(vector_field)\n",
    "    \n",
    "def up(ev):\n",
    "    global vector_field, drag\n",
    "    mouse_to_field(vector_field)\n",
    "    drag = False\n",
    "\n",
    "vp.scene.bind(\"mousedown\", down)\n",
    "vp.scene.bind(\"mousemove\", move)\n",
    "vp.scene.bind(\"mouseup\", up)\n",
    "##\n",
    "scale = 4e-14/1e17\n",
    "#scale = 0.002 #Scale for Electric field\n",
    "##\n",
    "fund_charge = 1.602e-19 #C: Fundamental charge\n",
    "kel = 8.99e9 #Nm^2C^-2: Electric Constant"
   ]
  },
  {
   "cell_type": "code",
   "execution_count": 3,
   "metadata": {
    "collapsed": false
   },
   "outputs": [
    {
     "data": {
      "text/plain": [
       "4e-31"
      ]
     },
     "execution_count": 3,
     "metadata": {},
     "output_type": "execute_result"
    }
   ],
   "source": [
    "scale"
   ]
  },
  {
   "cell_type": "markdown",
   "metadata": {},
   "source": [
    "# Se configura la escena y el sistema coordenado"
   ]
  },
  {
   "cell_type": "code",
   "execution_count": 4,
   "metadata": {
    "collapsed": false
   },
   "outputs": [
    {
     "data": {
      "application/javascript": [
       "if (typeof Jupyter !== \"undefined\") {require.undef(\"nbextensions/vpython_libraries/glow.min\");}else{element.textContent = ' ';}"
      ],
      "text/plain": [
       "<IPython.core.display.Javascript object>"
      ]
     },
     "metadata": {},
     "output_type": "display_data"
    },
    {
     "data": {
      "application/javascript": [
       "if (typeof Jupyter !== \"undefined\") {require.undef(\"nbextensions/vpython_libraries/glowcomm\");}else{element.textContent = ' ';}"
      ],
      "text/plain": [
       "<IPython.core.display.Javascript object>"
      ]
     },
     "metadata": {},
     "output_type": "display_data"
    },
    {
     "data": {
      "application/javascript": [
       "if (typeof Jupyter !== \"undefined\") {require.undef(\"nbextensions/vpython_libraries/jquery-ui.custom.min\");}else{element.textContent = ' ';}"
      ],
      "text/plain": [
       "<IPython.core.display.Javascript object>"
      ]
     },
     "metadata": {},
     "output_type": "display_data"
    },
    {
     "data": {
      "application/javascript": [
       "if (typeof Jupyter !== \"undefined\") {require([\"nbextensions/vpython_libraries/glow.min\"], function(){console.log(\"GLOW LOADED\");});}else{element.textContent = ' ';}"
      ],
      "text/plain": [
       "<IPython.core.display.Javascript object>"
      ]
     },
     "metadata": {},
     "output_type": "display_data"
    },
    {
     "data": {
      "application/javascript": [
       "if (typeof Jupyter !== \"undefined\") {require([\"nbextensions/vpython_libraries/glowcomm\"], function(){console.log(\"GLOWCOMM LOADED\");});}else{element.textContent = ' ';}"
      ],
      "text/plain": [
       "<IPython.core.display.Javascript object>"
      ]
     },
     "metadata": {},
     "output_type": "display_data"
    },
    {
     "data": {
      "application/javascript": [
       "if (typeof Jupyter !== \"undefined\") {require([\"nbextensions/vpython_libraries/jquery-ui.custom.min\"], function(){console.log(\"JQUERY LOADED\");});}else{element.textContent = ' ';}"
      ],
      "text/plain": [
       "<IPython.core.display.Javascript object>"
      ]
     },
     "metadata": {},
     "output_type": "display_data"
    }
   ],
   "source": [
    "s = \"Campo Eléctrico de Disco uniformemente cargado.\"\n",
    "vp.scene.title = s\n",
    "\n",
    "vp.scene.background = vp.color.white\n",
    "#vp.scene.width = 800\n",
    "#vp.scene.height = 500\n",
    "vp.scene.range = 2e-13\n",
    "#Se dibuja SC con el que se trabajará\n",
    "lenght_axis = 1e-13\n",
    "shaftwidth = 6e-15\n",
    "xaxis = vp.arrow(color=vp.color.black, pos=vp.vector(0,0,0), axis=lenght_axis*vp.vector(1,0,0), shaftwidth=shaftwidth)\n",
    "xlabel = vp.label(pos=vp.vector(1.1*lenght_axis,0,0), text=\"x\", color=vp.color.black, opacity=0, height=20, box=0 ,font='times')\n",
    "yaxis = vp.arrow(color=vp.color.black, pos=vp.vector(0,0,0), axis=lenght_axis*vp.vector(0,1,0), shaftwidth=shaftwidth)\n",
    "ylabel = vp.label(pos=vp.vector(0,1.1*lenght_axis,0), text=\"y\", color=vp.color.black, opacity=0, height=20, box=0,font='times')\n",
    "zaxis = vp.arrow(color=vp.color.black, pos=vp.vector(0,0,0), axis=lenght_axis*vp.vector(0,0,1), shaftwidth=shaftwidth)\n",
    "zlabel = vp.label(pos=vp.vector(0,0,1.1*lenght_axis), text=\"z\", color=vp.color.black, opacity=0, height=20, box=0,font='times')"
   ]
  },
  {
   "cell_type": "markdown",
   "metadata": {},
   "source": [
    "# Se configura la fuente del campo eléctrico"
   ]
  },
  {
   "cell_type": "markdown",
   "metadata": {},
   "source": [
    "Para un disco de radio $R$ uniformemente cargado con densidad superficial $\\sigma$:\n",
    "\n",
    "* El área $A$ del disco está dado por:\n",
    "$$A = \\int_{S}  dS = \\int_{0}^{R} \\int_{0}^{2\\pi} \\rho d\\rho d\\varphi = \\pi R^2.$$\n",
    "* La carga total $Q$ satisface que:\n",
    "$$Q = \\int_{S} \\sigma dS = \\int_{0}^{R} \\int_{0}^{2\\pi} \\sigma \\rho d\\rho d\\varphi = \\sigma \\pi R^2 = \\sigma A.$$\n",
    "* Si la carga total $Q$ es una suma discreta de $N$ cargas de intensidad $q$, entonces:\n",
    "$$ Q = qN.$$\n",
    "Además, si cada carga $q$ está distribuida ocupando un área $a$, entonces:\n",
    "$$A = Na.$$\n",
    "* Si controlamos $Q$, $R$ y $N$, entonces:\n",
    "$$ \\sigma = \\frac{Q}{\\pi R^2}.$$\n",
    "$$ q = \\frac{Q}{N}.$$\n",
    "$$ a = \\frac{\\pi R^2}{N}.$$"
   ]
  },
  {
   "cell_type": "code",
   "execution_count": 5,
   "metadata": {
    "collapsed": true
   },
   "outputs": [],
   "source": [
    "#Parameters\n",
    "Q = fund_charge # Total charge.\n",
    "R = 1.0e-13 # Radius of disk.\n",
    "N = 5000 # Number of point charges the disk will be made of."
   ]
  },
  {
   "cell_type": "code",
   "execution_count": 6,
   "metadata": {
    "collapsed": false
   },
   "outputs": [
    {
     "name": "stdout",
     "output_type": "stream",
     "text": [
      "A = 3.1415926535897934e-26 m^2\n",
      "sigma = 5099324.3766643265 C/m^2\n",
      "q = 3.204e-23 C\n",
      "a = 6.283185307179587e-30 m^2\n"
     ]
    }
   ],
   "source": [
    "A = vp.pi*R**2 # Area of the disk.\n",
    "sigma = Q/A # Superficial density of charge\n",
    "charge = Q/N # Single point charge.\n",
    "a = A/N # Area occupied by a single point charge.\n",
    "dx = vp.sqrt(a) # Distance between neighboring point charges.\n",
    "print('A =', A, 'm^2')\n",
    "print('sigma =', sigma, 'C/m^2')\n",
    "print('q =', charge, 'C')\n",
    "print('a =', a, 'm^2')"
   ]
  },
  {
   "cell_type": "markdown",
   "metadata": {},
   "source": [
    "# Se representa la fuente del Campo Eléctrico"
   ]
  },
  {
   "cell_type": "code",
   "execution_count": 7,
   "metadata": {
    "collapsed": false
   },
   "outputs": [],
   "source": [
    "# Create a list of point charges.\n",
    "charges = [] # An empty list.\n",
    "x = 0\n",
    "while (x <= R):\n",
    "    y = 0\n",
    "    ymax = vp.sqrt(R**2-x**2)\n",
    "    while (y <= ymax):\n",
    "        charges.append(vp.sphere(radius=0.1*dx, pos=vp.vector(x,y,0), q=charge, color=charge_color(charge)))\n",
    "        charges.append(vp.sphere(radius=0.1*dx, pos=vp.vector(-x,y,0), q=charge, color=charge_color(charge)))\n",
    "        charges.append(vp.sphere(radius=0.1*dx, pos=vp.vector(x,-y,0), q=charge, color=charge_color(charge)))\n",
    "        charges.append(vp.sphere(radius=0.1*dx, pos=vp.vector(-x,-y,0), q=charge, color=charge_color(charge)))\n",
    "        y = y + dx\n",
    "    x = x + dx"
   ]
  },
  {
   "cell_type": "markdown",
   "metadata": {},
   "source": [
    "# Se evalúa el campo eléctrico en determinados puntos"
   ]
  },
  {
   "cell_type": "code",
   "execution_count": 8,
   "metadata": {
    "collapsed": false
   },
   "outputs": [],
   "source": [
    "d = 30*dx"
   ]
  },
  {
   "cell_type": "code",
   "execution_count": 9,
   "metadata": {
    "collapsed": false
   },
   "outputs": [],
   "source": [
    "r1 = vp.vector(0.7*R,0,d)\n",
    "r2 = vp.vector(-0.7*R,0,d)\n",
    "r3 = vp.vector(0,0,d)\n",
    "r4 = vp.vector(0.7*R,0,-d)\n",
    "r5 = vp.vector(-0.7*R,0,-d)\n",
    "r6 = vp.vector(0,0,-d)"
   ]
  },
  {
   "cell_type": "code",
   "execution_count": 10,
   "metadata": {
    "collapsed": false
   },
   "outputs": [],
   "source": [
    "plot_field(r1)\n",
    "plot_field(r2)\n",
    "plot_field(r3)\n",
    "plot_field(r4)\n",
    "plot_field(r5)\n",
    "plot_field(r6)"
   ]
  },
  {
   "cell_type": "code",
   "execution_count": null,
   "metadata": {
    "collapsed": true
   },
   "outputs": [],
   "source": []
  },
  {
   "cell_type": "code",
   "execution_count": null,
   "metadata": {
    "collapsed": true
   },
   "outputs": [],
   "source": []
  }
 ],
 "metadata": {
  "anaconda-cloud": {},
  "kernelspec": {
   "display_name": "Python [conda env:envpy3]",
   "language": "python",
   "name": "conda-env-envpy3-py"
  },
  "language_info": {
   "codemirror_mode": {
    "name": "ipython",
    "version": 3
   },
   "file_extension": ".py",
   "mimetype": "text/x-python",
   "name": "python",
   "nbconvert_exporter": "python",
   "pygments_lexer": "ipython3",
   "version": "3.5.2"
  }
 },
 "nbformat": 4,
 "nbformat_minor": 2
}
