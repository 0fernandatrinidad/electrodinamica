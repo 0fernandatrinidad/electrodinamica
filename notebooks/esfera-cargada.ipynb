{
 "cells": [
  {
   "cell_type": "code",
   "execution_count": 1,
   "metadata": {},
   "outputs": [],
   "source": [
    "import numpy as np\n",
    "import matplotlib.pyplot as plt\n",
    "from ipywidgets import interact\n",
    "%matplotlib inline\n",
    "plt.style.use('classic')"
   ]
  },
  {
   "cell_type": "code",
   "execution_count": 2,
   "metadata": {},
   "outputs": [],
   "source": [
    "Q = 1\n",
    "a = 1\n",
    "b = 2\n",
    "r = np.linspace(0,3*b,1000)\n",
    "\n",
    "def rhoi(a,b):\n",
    "    return 3*Q/(4*np.pi)/(b**3-a**3)\n",
    "\n",
    "def rho(r,a,b):\n",
    "    return 0*(r<=a) + rhoi(a,b)*(r>a)*(r<b) + 0*(r>=b)\n",
    "\n",
    "def Emax(a):\n",
    "    return Q/(4*np.pi*a**2)\n",
    "\n",
    "def E(r,a,b):\n",
    "    return 0*(r<=a) + (Q*(r**3-a**3)/(4*np.pi*r**2*(b**3-a**3)))*(r>a)*(r<b) + (Q/(4*np.pi*r**2))*(r>=b)\n",
    "\n",
    "def phi(r,a,b):\n",
    "    phi1 = 3*(b**2-a**2)/(2*(b**3-a**3))\n",
    "    phi2 = (-(2*a**3+r**3)/(2*r*(b**3-a**3)))+3*b**2/(2*(b**3-a**3))\n",
    "    return phi1*(r<=a) + phi2*(r>a)*(r<b) + (1/r)*(r>=b)"
   ]
  },
  {
   "cell_type": "code",
   "execution_count": 3,
   "metadata": {},
   "outputs": [],
   "source": [
    "def grho(a=1,b=2):\n",
    "    plt.plot(r,rho(r,a,b), linewidth=2)\n",
    "    plt.xlabel('$r$', fontsize=15)\n",
    "    plt.title('Densidad $\\\\rho(r)$', fontsize=15)\n",
    "    plt.xticks([0,a,b],['$0$','$a$', '$b$'], fontsize=15)\n",
    "    plt.yticks([0,rhoi(a,b)],['$0$','$\\\\frac{Q}{4\\\\pi\\\\varepsilon_0}\\\\frac{3}{(b^3-a^3)}$'], fontsize=15)\n",
    "    plt.ylim(-0.2*rhoi(a,b),1.2*rhoi(a,b))\n",
    "    plt.grid(True)\n",
    "    plt.tight_layout()\n",
    "    #plt.savefig('fig-esfera-hueca-densidad.pdf')"
   ]
  },
  {
   "cell_type": "code",
   "execution_count": 4,
   "metadata": {},
   "outputs": [],
   "source": [
    "def gE(a=1,b=2):\n",
    "    plt.plot(r,E(r,a,b), linewidth=2)\n",
    "    plt.xlabel('$r$', fontsize=15)\n",
    "    plt.title('Campo eléctrico $E(r)$', fontsize=15)\n",
    "    plt.xticks([0,a,b],['$0$','$a$', '$b$'], fontsize=15)\n",
    "    plt.yticks([0,Emax(a)],['$0$','$\\\\frac{Q}{4\\\\pi\\\\varepsilon_0 b^2}$'], fontsize=15)\n",
    "    plt.ylim(-0.2*Emax(a),1.2*Emax(a))\n",
    "    plt.grid(True)\n",
    "    plt.tight_layout()\n",
    "    #plt.savefig('fig-esfera-hueca-campo.pdf')"
   ]
  },
  {
   "cell_type": "code",
   "execution_count": 5,
   "metadata": {},
   "outputs": [],
   "source": [
    "def gphi(a=1,b=2):\n",
    "    plt.plot(r,phi(r,a,b), linewidth=2)\n",
    "    plt.xlabel('$r$', fontsize=15)\n",
    "    plt.title('Potencial $\\\\phi(r)$', fontsize=15)\n",
    "    plt.xticks([0,a,b,2*b],['$0$','$a$', '$b$'], fontsize=15)\n",
    "    plt.yticks([0,phi(a/2,a,b)],['$0$','$\\\\frac{Q}{4\\\\pi\\\\varepsilon_0}\\\\frac{3(b^2-a^2)}{2(b^3-a^3)}$'], fontsize=15)\n",
    "    plt.ylim(-0.2*phi(a/2,a,b),1.2*phi(a/2,a,b))\n",
    "    plt.grid(True)\n",
    "    plt.tight_layout()\n",
    "    #plt.savefig('fig-esfera-hueca-potencial.pdf')"
   ]
  },
  {
   "cell_type": "code",
   "execution_count": 6,
   "metadata": {},
   "outputs": [
    {
     "data": {
      "application/vnd.jupyter.widget-view+json": {
       "model_id": "2c43b132ca5a4fef9f6ffbd59ae5ba47",
       "version_major": 2,
       "version_minor": 0
      },
      "text/plain": [
       "interactive(children=(FloatSlider(value=1.0, description='a', max=5.0), FloatSlider(value=2.0, description='b'…"
      ]
     },
     "metadata": {},
     "output_type": "display_data"
    },
    {
     "data": {
      "text/plain": [
       "<function __main__.grho(a=1, b=2)>"
      ]
     },
     "execution_count": 6,
     "metadata": {},
     "output_type": "execute_result"
    }
   ],
   "source": [
    "interact(grho, a=(0,5,0.1), b=(0,5,0.1))"
   ]
  },
  {
   "cell_type": "code",
   "execution_count": 7,
   "metadata": {},
   "outputs": [
    {
     "data": {
      "application/vnd.jupyter.widget-view+json": {
       "model_id": "274f8ed39a7e4d05b29ebbd5bc8090a2",
       "version_major": 2,
       "version_minor": 0
      },
      "text/plain": [
       "interactive(children=(FloatSlider(value=1.0, description='a', max=5.0), FloatSlider(value=2.0, description='b'…"
      ]
     },
     "metadata": {},
     "output_type": "display_data"
    },
    {
     "data": {
      "text/plain": [
       "<function __main__.gE(a=1, b=2)>"
      ]
     },
     "execution_count": 7,
     "metadata": {},
     "output_type": "execute_result"
    }
   ],
   "source": [
    "interact(gE, a=(0,5,0.1), b=(0,5,0.1))"
   ]
  },
  {
   "cell_type": "code",
   "execution_count": 8,
   "metadata": {},
   "outputs": [
    {
     "data": {
      "application/vnd.jupyter.widget-view+json": {
       "model_id": "d2bc4e214c794a3a92136ac1fed487fd",
       "version_major": 2,
       "version_minor": 0
      },
      "text/plain": [
       "interactive(children=(FloatSlider(value=1.0, description='a', max=5.0), FloatSlider(value=2.0, description='b'…"
      ]
     },
     "metadata": {},
     "output_type": "display_data"
    },
    {
     "data": {
      "text/plain": [
       "<function __main__.gphi(a=1, b=2)>"
      ]
     },
     "execution_count": 8,
     "metadata": {},
     "output_type": "execute_result"
    }
   ],
   "source": [
    "interact(gphi, a=(0,5,0.1), b=(0,5,0.1))"
   ]
  }
 ],
 "metadata": {
  "kernelspec": {
   "display_name": "Python 3",
   "language": "python",
   "name": "python3"
  },
  "language_info": {
   "codemirror_mode": {
    "name": "ipython",
    "version": 3
   },
   "file_extension": ".py",
   "mimetype": "text/x-python",
   "name": "python",
   "nbconvert_exporter": "python",
   "pygments_lexer": "ipython3",
   "version": "3.6.6"
  }
 },
 "nbformat": 4,
 "nbformat_minor": 2
}
